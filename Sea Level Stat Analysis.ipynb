{
 "cells": [
  {
   "cell_type": "code",
   "execution_count": 117,
   "id": "5ad5dd5e",
   "metadata": {},
   "outputs": [],
   "source": [
    "import pandas as pd #importing libraries\n",
    "import scipy.stats as stats\n",
    "import matplotlib.pyplot as plt\n",
    "import numpy as np\n",
    "import seaborn as sns\n",
    "from sklearn.linear_model import LinearRegression\n",
    "import matplotlib.pyplot as plt\n",
    "from scipy.stats import linregress\n",
    "from sklearn.linear_model import TheilSenRegressor"
   ]
  },
  {
   "cell_type": "code",
   "execution_count": 118,
   "id": "6e34088c",
   "metadata": {},
   "outputs": [],
   "source": [
    "sea_level = pd.read_csv('sea_level_changes.csv')"
   ]
  },
  {
   "cell_type": "code",
   "execution_count": 119,
   "id": "47b55235",
   "metadata": {},
   "outputs": [
    {
     "data": {
      "text/html": [
       "<div>\n",
       "<style scoped>\n",
       "    .dataframe tbody tr th:only-of-type {\n",
       "        vertical-align: middle;\n",
       "    }\n",
       "\n",
       "    .dataframe tbody tr th {\n",
       "        vertical-align: top;\n",
       "    }\n",
       "\n",
       "    .dataframe thead th {\n",
       "        text-align: right;\n",
       "    }\n",
       "</style>\n",
       "<table border=\"1\" class=\"dataframe\">\n",
       "  <thead>\n",
       "    <tr style=\"text-align: right;\">\n",
       "      <th></th>\n",
       "      <th>Year</th>\n",
       "      <th>CSIRO Adjusted Sea Level</th>\n",
       "      <th>Lower Error Bound</th>\n",
       "      <th>Upper Error Bound</th>\n",
       "      <th>NOAA Adjusted Sea Level</th>\n",
       "    </tr>\n",
       "  </thead>\n",
       "  <tbody>\n",
       "    <tr>\n",
       "      <th>0</th>\n",
       "      <td>2023</td>\n",
       "      <td>NaN</td>\n",
       "      <td>NaN</td>\n",
       "      <td>NaN</td>\n",
       "      <td>10.203904</td>\n",
       "    </tr>\n",
       "    <tr>\n",
       "      <th>1</th>\n",
       "      <td>2022</td>\n",
       "      <td>NaN</td>\n",
       "      <td>NaN</td>\n",
       "      <td>NaN</td>\n",
       "      <td>9.974711</td>\n",
       "    </tr>\n",
       "    <tr>\n",
       "      <th>2</th>\n",
       "      <td>2021</td>\n",
       "      <td>NaN</td>\n",
       "      <td>NaN</td>\n",
       "      <td>NaN</td>\n",
       "      <td>9.886688</td>\n",
       "    </tr>\n",
       "    <tr>\n",
       "      <th>3</th>\n",
       "      <td>2020</td>\n",
       "      <td>NaN</td>\n",
       "      <td>NaN</td>\n",
       "      <td>NaN</td>\n",
       "      <td>9.699874</td>\n",
       "    </tr>\n",
       "    <tr>\n",
       "      <th>4</th>\n",
       "      <td>2019</td>\n",
       "      <td>NaN</td>\n",
       "      <td>NaN</td>\n",
       "      <td>NaN</td>\n",
       "      <td>9.594329</td>\n",
       "    </tr>\n",
       "    <tr>\n",
       "      <th>...</th>\n",
       "      <td>...</td>\n",
       "      <td>...</td>\n",
       "      <td>...</td>\n",
       "      <td>...</td>\n",
       "      <td>...</td>\n",
       "    </tr>\n",
       "    <tr>\n",
       "      <th>139</th>\n",
       "      <td>1884</td>\n",
       "      <td>0.590551</td>\n",
       "      <td>-0.283465</td>\n",
       "      <td>1.464567</td>\n",
       "      <td>NaN</td>\n",
       "    </tr>\n",
       "    <tr>\n",
       "      <th>140</th>\n",
       "      <td>1883</td>\n",
       "      <td>-0.232283</td>\n",
       "      <td>-1.129921</td>\n",
       "      <td>0.665354</td>\n",
       "      <td>NaN</td>\n",
       "    </tr>\n",
       "    <tr>\n",
       "      <th>141</th>\n",
       "      <td>1882</td>\n",
       "      <td>-0.440945</td>\n",
       "      <td>-1.346457</td>\n",
       "      <td>0.464567</td>\n",
       "      <td>NaN</td>\n",
       "    </tr>\n",
       "    <tr>\n",
       "      <th>142</th>\n",
       "      <td>1881</td>\n",
       "      <td>0.220472</td>\n",
       "      <td>-0.732283</td>\n",
       "      <td>1.173228</td>\n",
       "      <td>NaN</td>\n",
       "    </tr>\n",
       "    <tr>\n",
       "      <th>143</th>\n",
       "      <td>1880</td>\n",
       "      <td>0.000000</td>\n",
       "      <td>-0.952756</td>\n",
       "      <td>0.952756</td>\n",
       "      <td>NaN</td>\n",
       "    </tr>\n",
       "  </tbody>\n",
       "</table>\n",
       "<p>144 rows × 5 columns</p>\n",
       "</div>"
      ],
      "text/plain": [
       "     Year  CSIRO Adjusted Sea Level  Lower Error Bound  Upper Error Bound  \\\n",
       "0    2023                       NaN                NaN                NaN   \n",
       "1    2022                       NaN                NaN                NaN   \n",
       "2    2021                       NaN                NaN                NaN   \n",
       "3    2020                       NaN                NaN                NaN   \n",
       "4    2019                       NaN                NaN                NaN   \n",
       "..    ...                       ...                ...                ...   \n",
       "139  1884                  0.590551          -0.283465           1.464567   \n",
       "140  1883                 -0.232283          -1.129921           0.665354   \n",
       "141  1882                 -0.440945          -1.346457           0.464567   \n",
       "142  1881                  0.220472          -0.732283           1.173228   \n",
       "143  1880                  0.000000          -0.952756           0.952756   \n",
       "\n",
       "     NOAA Adjusted Sea Level  \n",
       "0                  10.203904  \n",
       "1                   9.974711  \n",
       "2                   9.886688  \n",
       "3                   9.699874  \n",
       "4                   9.594329  \n",
       "..                       ...  \n",
       "139                      NaN  \n",
       "140                      NaN  \n",
       "141                      NaN  \n",
       "142                      NaN  \n",
       "143                      NaN  \n",
       "\n",
       "[144 rows x 5 columns]"
      ]
     },
     "execution_count": 119,
     "metadata": {},
     "output_type": "execute_result"
    }
   ],
   "source": [
    "sea_level"
   ]
  },
  {
   "cell_type": "code",
   "execution_count": 120,
   "id": "c2206466",
   "metadata": {},
   "outputs": [],
   "source": [
    "sea_level = sea_level.drop(columns=['Lower Error Bound', 'Upper Error Bound'])\n",
    "sea_level = sea_level.rename(columns={'CSIRO Adjusted Sea Level' : 'CSIRO', 'NOAA Adjusted Sea Level' : 'NOAA'})"
   ]
  },
  {
   "cell_type": "code",
   "execution_count": 121,
   "id": "1567bf6e",
   "metadata": {
    "scrolled": false
   },
   "outputs": [
    {
     "data": {
      "text/html": [
       "<div>\n",
       "<style scoped>\n",
       "    .dataframe tbody tr th:only-of-type {\n",
       "        vertical-align: middle;\n",
       "    }\n",
       "\n",
       "    .dataframe tbody tr th {\n",
       "        vertical-align: top;\n",
       "    }\n",
       "\n",
       "    .dataframe thead th {\n",
       "        text-align: right;\n",
       "    }\n",
       "</style>\n",
       "<table border=\"1\" class=\"dataframe\">\n",
       "  <thead>\n",
       "    <tr style=\"text-align: right;\">\n",
       "      <th></th>\n",
       "      <th>Year</th>\n",
       "      <th>CSIRO</th>\n",
       "      <th>NOAA</th>\n",
       "    </tr>\n",
       "  </thead>\n",
       "  <tbody>\n",
       "    <tr>\n",
       "      <th>0</th>\n",
       "      <td>2023</td>\n",
       "      <td>NaN</td>\n",
       "      <td>10.203904</td>\n",
       "    </tr>\n",
       "    <tr>\n",
       "      <th>1</th>\n",
       "      <td>2022</td>\n",
       "      <td>NaN</td>\n",
       "      <td>9.974711</td>\n",
       "    </tr>\n",
       "    <tr>\n",
       "      <th>2</th>\n",
       "      <td>2021</td>\n",
       "      <td>NaN</td>\n",
       "      <td>9.886688</td>\n",
       "    </tr>\n",
       "    <tr>\n",
       "      <th>3</th>\n",
       "      <td>2020</td>\n",
       "      <td>NaN</td>\n",
       "      <td>9.699874</td>\n",
       "    </tr>\n",
       "    <tr>\n",
       "      <th>4</th>\n",
       "      <td>2019</td>\n",
       "      <td>NaN</td>\n",
       "      <td>9.594329</td>\n",
       "    </tr>\n",
       "    <tr>\n",
       "      <th>...</th>\n",
       "      <td>...</td>\n",
       "      <td>...</td>\n",
       "      <td>...</td>\n",
       "    </tr>\n",
       "    <tr>\n",
       "      <th>139</th>\n",
       "      <td>1884</td>\n",
       "      <td>0.590551</td>\n",
       "      <td>NaN</td>\n",
       "    </tr>\n",
       "    <tr>\n",
       "      <th>140</th>\n",
       "      <td>1883</td>\n",
       "      <td>-0.232283</td>\n",
       "      <td>NaN</td>\n",
       "    </tr>\n",
       "    <tr>\n",
       "      <th>141</th>\n",
       "      <td>1882</td>\n",
       "      <td>-0.440945</td>\n",
       "      <td>NaN</td>\n",
       "    </tr>\n",
       "    <tr>\n",
       "      <th>142</th>\n",
       "      <td>1881</td>\n",
       "      <td>0.220472</td>\n",
       "      <td>NaN</td>\n",
       "    </tr>\n",
       "    <tr>\n",
       "      <th>143</th>\n",
       "      <td>1880</td>\n",
       "      <td>0.000000</td>\n",
       "      <td>NaN</td>\n",
       "    </tr>\n",
       "  </tbody>\n",
       "</table>\n",
       "<p>144 rows × 3 columns</p>\n",
       "</div>"
      ],
      "text/plain": [
       "     Year     CSIRO       NOAA\n",
       "0    2023       NaN  10.203904\n",
       "1    2022       NaN   9.974711\n",
       "2    2021       NaN   9.886688\n",
       "3    2020       NaN   9.699874\n",
       "4    2019       NaN   9.594329\n",
       "..    ...       ...        ...\n",
       "139  1884  0.590551        NaN\n",
       "140  1883 -0.232283        NaN\n",
       "141  1882 -0.440945        NaN\n",
       "142  1881  0.220472        NaN\n",
       "143  1880  0.000000        NaN\n",
       "\n",
       "[144 rows x 3 columns]"
      ]
     },
     "execution_count": 121,
     "metadata": {},
     "output_type": "execute_result"
    }
   ],
   "source": [
    "sea_level"
   ]
  },
  {
   "cell_type": "code",
   "execution_count": 122,
   "id": "cc500813",
   "metadata": {},
   "outputs": [],
   "source": [
    "# Function to add all the sea level values into one column; \n",
    "# For the years where both CSIRO and NOAA have values, NOAA will supersede \n",
    "\n",
    "def adding_sea_level(row):\n",
    "    return row['CSIRO'] if row['Year'] < 1993 else row['NOAA']"
   ]
  },
  {
   "cell_type": "code",
   "execution_count": 123,
   "id": "7cc9eceb",
   "metadata": {},
   "outputs": [],
   "source": [
    "sea_level['SL_Change'] = sea_level.apply(adding_sea_level, axis = 1)"
   ]
  },
  {
   "cell_type": "code",
   "execution_count": 124,
   "id": "8f585eed",
   "metadata": {},
   "outputs": [
    {
     "data": {
      "text/html": [
       "<div>\n",
       "<style scoped>\n",
       "    .dataframe tbody tr th:only-of-type {\n",
       "        vertical-align: middle;\n",
       "    }\n",
       "\n",
       "    .dataframe tbody tr th {\n",
       "        vertical-align: top;\n",
       "    }\n",
       "\n",
       "    .dataframe thead th {\n",
       "        text-align: right;\n",
       "    }\n",
       "</style>\n",
       "<table border=\"1\" class=\"dataframe\">\n",
       "  <thead>\n",
       "    <tr style=\"text-align: right;\">\n",
       "      <th></th>\n",
       "      <th>Year</th>\n",
       "      <th>CSIRO</th>\n",
       "      <th>NOAA</th>\n",
       "      <th>SL_Change</th>\n",
       "    </tr>\n",
       "  </thead>\n",
       "  <tbody>\n",
       "    <tr>\n",
       "      <th>0</th>\n",
       "      <td>2023</td>\n",
       "      <td>NaN</td>\n",
       "      <td>10.203904</td>\n",
       "      <td>10.203904</td>\n",
       "    </tr>\n",
       "    <tr>\n",
       "      <th>1</th>\n",
       "      <td>2022</td>\n",
       "      <td>NaN</td>\n",
       "      <td>9.974711</td>\n",
       "      <td>9.974711</td>\n",
       "    </tr>\n",
       "    <tr>\n",
       "      <th>2</th>\n",
       "      <td>2021</td>\n",
       "      <td>NaN</td>\n",
       "      <td>9.886688</td>\n",
       "      <td>9.886688</td>\n",
       "    </tr>\n",
       "    <tr>\n",
       "      <th>3</th>\n",
       "      <td>2020</td>\n",
       "      <td>NaN</td>\n",
       "      <td>9.699874</td>\n",
       "      <td>9.699874</td>\n",
       "    </tr>\n",
       "    <tr>\n",
       "      <th>4</th>\n",
       "      <td>2019</td>\n",
       "      <td>NaN</td>\n",
       "      <td>9.594329</td>\n",
       "      <td>9.594329</td>\n",
       "    </tr>\n",
       "    <tr>\n",
       "      <th>...</th>\n",
       "      <td>...</td>\n",
       "      <td>...</td>\n",
       "      <td>...</td>\n",
       "      <td>...</td>\n",
       "    </tr>\n",
       "    <tr>\n",
       "      <th>139</th>\n",
       "      <td>1884</td>\n",
       "      <td>0.590551</td>\n",
       "      <td>NaN</td>\n",
       "      <td>0.590551</td>\n",
       "    </tr>\n",
       "    <tr>\n",
       "      <th>140</th>\n",
       "      <td>1883</td>\n",
       "      <td>-0.232283</td>\n",
       "      <td>NaN</td>\n",
       "      <td>-0.232283</td>\n",
       "    </tr>\n",
       "    <tr>\n",
       "      <th>141</th>\n",
       "      <td>1882</td>\n",
       "      <td>-0.440945</td>\n",
       "      <td>NaN</td>\n",
       "      <td>-0.440945</td>\n",
       "    </tr>\n",
       "    <tr>\n",
       "      <th>142</th>\n",
       "      <td>1881</td>\n",
       "      <td>0.220472</td>\n",
       "      <td>NaN</td>\n",
       "      <td>0.220472</td>\n",
       "    </tr>\n",
       "    <tr>\n",
       "      <th>143</th>\n",
       "      <td>1880</td>\n",
       "      <td>0.000000</td>\n",
       "      <td>NaN</td>\n",
       "      <td>0.000000</td>\n",
       "    </tr>\n",
       "  </tbody>\n",
       "</table>\n",
       "<p>144 rows × 4 columns</p>\n",
       "</div>"
      ],
      "text/plain": [
       "     Year     CSIRO       NOAA  SL_Change\n",
       "0    2023       NaN  10.203904  10.203904\n",
       "1    2022       NaN   9.974711   9.974711\n",
       "2    2021       NaN   9.886688   9.886688\n",
       "3    2020       NaN   9.699874   9.699874\n",
       "4    2019       NaN   9.594329   9.594329\n",
       "..    ...       ...        ...        ...\n",
       "139  1884  0.590551        NaN   0.590551\n",
       "140  1883 -0.232283        NaN  -0.232283\n",
       "141  1882 -0.440945        NaN  -0.440945\n",
       "142  1881  0.220472        NaN   0.220472\n",
       "143  1880  0.000000        NaN   0.000000\n",
       "\n",
       "[144 rows x 4 columns]"
      ]
     },
     "execution_count": 124,
     "metadata": {},
     "output_type": "execute_result"
    }
   ],
   "source": [
    "sea_level"
   ]
  },
  {
   "cell_type": "code",
   "execution_count": 125,
   "id": "acb89581",
   "metadata": {},
   "outputs": [
    {
     "data": {
      "text/plain": [
       "0"
      ]
     },
     "execution_count": 125,
     "metadata": {},
     "output_type": "execute_result"
    }
   ],
   "source": [
    "sea_level['SL_Change'].isnull().sum()"
   ]
  },
  {
   "cell_type": "code",
   "execution_count": 126,
   "id": "980fe80f",
   "metadata": {},
   "outputs": [],
   "source": [
    "def split_by_year(sea_level, Year, split_year):\n",
    "\n",
    "    # Split based on the year\n",
    "    before_split = sea_level.loc[sea_level[\"Year\"] < split_year, \"SL_Change\"].values\n",
    "    after_split = sea_level.loc[sea_level[\"Year\"] >= split_year, \"SL_Change\"].values\n",
    "\n",
    "\n",
    "    return before_split, after_split\n"
   ]
  },
  {
   "cell_type": "code",
   "execution_count": 127,
   "id": "cf99e782",
   "metadata": {},
   "outputs": [],
   "source": [
    "older, after = split_by_year(sea_level, 'Year', 1951)"
   ]
  },
  {
   "cell_type": "code",
   "execution_count": 128,
   "id": "d6a60753",
   "metadata": {},
   "outputs": [
    {
     "data": {
      "text/plain": [
       "array([ 3.59842519,  3.51181102,  3.56299212,  3.37401574,  3.2519685 ,\n",
       "        2.95669291,  2.84645669,  3.09842519,  3.09842519,  3.09842519,\n",
       "        2.61811023,  2.82677165,  2.62204724,  2.51968504,  2.29527559,\n",
       "        2.4488189 ,  2.22834645,  2.44094488,  2.27165354,  2.04724409,\n",
       "        2.06299212,  1.90551181,  1.8503937 ,  2.00393701,  2.04724409,\n",
       "        1.79133858,  1.71259842,  2.        ,  1.9527559 ,  1.98818897,\n",
       "        1.90551181,  1.85433071,  1.79133858,  1.85433071,  2.03149606,\n",
       "        2.10629921,  1.79527559,  1.54724409,  1.47637795,  1.59842519,\n",
       "        1.27165354,  1.27559055,  1.0984252 ,  1.19685039,  1.2519685 ,\n",
       "        0.98425197,  1.2007874 ,  1.60629921,  1.29133858,  1.11023622,\n",
       "        1.12598425,  1.33858268,  1.04330709,  0.67322835,  0.46850394,\n",
       "        0.76771654,  0.30314961,  0.68503937,  0.5       ,  0.37401575,\n",
       "        0.44094488,  0.36220472,  0.2992126 ,  0.21653543,  0.43700787,\n",
       "        0.53149606,  0.59055118, -0.23228346, -0.44094488,  0.22047244,\n",
       "        0.        ])"
      ]
     },
     "execution_count": 128,
     "metadata": {},
     "output_type": "execute_result"
    }
   ],
   "source": [
    "older"
   ]
  },
  {
   "cell_type": "code",
   "execution_count": 129,
   "id": "d541d8e9",
   "metadata": {
    "scrolled": true
   },
   "outputs": [
    {
     "data": {
      "text/plain": [
       "array([10.20390442,  9.97471076,  9.88668755,  9.69987406,  9.59432944,\n",
       "        9.34009169,  9.2428458 ,  9.19360137,  9.06110547,  8.71731446,\n",
       "        8.58619679,  8.49276128,  8.09682093,  8.16437186,  8.1040271 ,\n",
       "        7.96070603,  7.80360055,  7.80395324,  7.71629221,  7.57314725,\n",
       "        7.50147539,  7.37478548,  7.30227455,  7.09351197,  6.93305703,\n",
       "        6.96240961,  6.99860547,  6.84535198,  6.70643301,  6.48547118,\n",
       "        6.30880342,  6.37401574,  6.34645669,  6.24803149,  6.15748031,\n",
       "        5.98031495,  5.79527558,  5.77165354,  5.74803149,  6.1535433 ,\n",
       "        6.18897637,  5.85826771,  6.08661417,  5.59842519,  5.36220472,\n",
       "        5.55511811,  5.3031496 ,  5.37007873,  5.40944881,  5.47244094,\n",
       "        5.003937  ,  5.24015748,  4.88188976,  4.67716535,  4.7519685 ,\n",
       "        4.48425196,  4.4527559 ,  4.39763779,  4.61023622,  4.16929133,\n",
       "        4.48031496,  4.54330708,  4.74803149,  4.503937  ,  4.35826771,\n",
       "        4.34645669,  4.29133858,  3.76377952,  3.96456693,  3.92913385,\n",
       "        4.04330708,  3.87007874,  3.97244094])"
      ]
     },
     "execution_count": 129,
     "metadata": {},
     "output_type": "execute_result"
    }
   ],
   "source": [
    "after"
   ]
  },
  {
   "cell_type": "code",
   "execution_count": 130,
   "id": "ac02811d",
   "metadata": {},
   "outputs": [
    {
     "name": "stdout",
     "output_type": "stream",
     "text": [
      "0.972713972173885 3.1800517453286\n"
     ]
    }
   ],
   "source": [
    "print(np.var(older), np.var(after))"
   ]
  },
  {
   "cell_type": "code",
   "execution_count": 131,
   "id": "b857319a",
   "metadata": {
    "scrolled": true
   },
   "outputs": [
    {
     "data": {
      "text/plain": [
       "TtestResult(statistic=-19.453211883884155, pvalue=6.982227098626769e-42, df=142.0)"
      ]
     },
     "execution_count": 131,
     "metadata": {},
     "output_type": "execute_result"
    }
   ],
   "source": [
    "stats.ttest_ind(a=older, b=after, equal_var=True)"
   ]
  },
  {
   "cell_type": "code",
   "execution_count": 132,
   "id": "58e11df3",
   "metadata": {},
   "outputs": [
    {
     "data": {
      "image/png": "[encoded data removed]",
      "text/plain": [
       "<Figure size 640x480 with 1 Axes>"
      ]
     },
     "metadata": {},
     "output_type": "display_data"
    }
   ],
   "source": [
    "# Create a linear regression plot\n",
    "sns.regplot(x=\"Year\", y=\"SL_Change\", data=sea_level, ci=None, \n",
    "            scatter_kws={\"color\": \"lightsteelblue\", \"s\": 20, \"alpha\": 0.8}, \n",
    "            line_kws={\"color\": \"purple\", \"linewidth\": 2, \"linestyle\": \"--\"},)\n",
    "\n",
    "# Add labels and title\n",
    "plt.xlabel(\"Year\")\n",
    "plt.ylabel(\"Sea Level (in)\")\n",
    "plt.title(\"Linear Regression of Sea Level vs. Year\")\n",
    "\n",
    "# Show plot\n",
    "plt.show()"
   ]
  },
  {
   "cell_type": "code",
   "execution_count": 133,
   "id": "c0e086d9",
   "metadata": {},
   "outputs": [
    {
     "data": {
      "image/png": "[encoded data removed]",
      "text/plain": [
       "<Figure size 640x480 with 1 Axes>"
      ]
     },
     "metadata": {},
     "output_type": "display_data"
    }
   ],
   "source": [
    "# Create a linear regression plot just for NOAA data\n",
    "sns.regplot(x=\"Year\", y=\"NOAA\", data=sea_level, ci=None, \n",
    "            scatter_kws={\"color\": \"lightsteelblue\", \"s\": 30, \"alpha\": 0.8}, \n",
    "            line_kws={\"color\": \"purple\", \"linewidth\": 2, \"linestyle\": \"--\"},)\n",
    "\n",
    "# Add labels and title\n",
    "plt.xlabel(\"Year\")\n",
    "plt.ylabel(\"NOAA Sea Level (in)\")\n",
    "plt.title(\"Linear Regression of Sea Level vs. Year for NOAA Measurements\")\n",
    "\n",
    "# Show plot\n",
    "plt.show()"
   ]
  },
  {
   "cell_type": "code",
   "execution_count": 134,
   "id": "9357a9b9",
   "metadata": {},
   "outputs": [
    {
     "data": {
      "image/png": "[encoded data removed]",
      "text/plain": [
       "<Figure size 640x480 with 1 Axes>"
      ]
     },
     "metadata": {},
     "output_type": "display_data"
    },
    {
     "name": "stdout",
     "output_type": "stream",
     "text": [
      "Theil-Sen Slope: 0.1232794967777565\n"
     ]
    }
   ],
   "source": [
    "# Drop rows where 'NOAA' or 'Year' is NaN just for this plot\n",
    "sea_level_clean = sea_level.dropna(subset=['Year', 'NOAA'])\n",
    "\n",
    "# Now extract the clean data\n",
    "X = sea_level_clean['Year'].values.reshape(-1, 1)\n",
    "Y = sea_level_clean['NOAA'].values\n",
    "\n",
    "model = TheilSenRegressor()\n",
    "model.fit(X, Y)\n",
    "\n",
    "plt.scatter(sea_level_clean['Year'], sea_level_clean['NOAA'], color='lightsteelblue')\n",
    "plt.plot(sea_level_clean['Year'], model.predict(X), color='purple', linestyle='--')\n",
    "plt.xlabel('Year')\n",
    "plt.ylabel('NOAA Sea Level (in)')\n",
    "plt.title('Sea Level Trend with Theil-Sen Estimator')\n",
    "plt.show()\n",
    "\n",
    "print(f\"Theil-Sen Slope: {model.coef_[0]}\")\n"
   ]
  },
  {
   "cell_type": "code",
   "execution_count": 135,
   "id": "ea2afc8d",
   "metadata": {},
   "outputs": [],
   "source": [
    "sea_level.to_csv('Sea_Level_Agg.csv', index=False)"
   ]
  },
  {
   "cell_type": "code",
   "execution_count": null,
   "id": "25bfd771",
   "metadata": {},
   "outputs": [],
   "source": []
  },
  {
   "cell_type": "code",
   "execution_count": null,
   "id": "b745ed44",
   "metadata": {},
   "outputs": [],
   "source": []
  },
  {
   "cell_type": "code",
   "execution_count": null,
   "id": "03c88b9f",
   "metadata": {},
   "outputs": [],
   "source": []
  },
  {
   "cell_type": "code",
   "execution_count": null,
   "id": "760133fd",
   "metadata": {},
   "outputs": [],
   "source": []
  }
 ],
 "metadata": {
  "kernelspec": {
   "display_name": "Python 3 (ipykernel)",
   "language": "python",
   "name": "python3"
  },
  "language_info": {
   "codemirror_mode": {
    "name": "ipython",
    "version": 3
   },
   "file_extension": ".py",
   "mimetype": "text/x-python",
   "name": "python",
   "nbconvert_exporter": "python",
   "pygments_lexer": "ipython3",
   "version": "3.11.5"
  }
 },
 "nbformat": 4,
 "nbformat_minor": 5
}
